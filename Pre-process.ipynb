{
 "cells": [
  {
   "cell_type": "code",
   "execution_count": 14,
   "id": "a7f634ca-098f-4873-a6f2-44c33c808460",
   "metadata": {},
   "outputs": [
    {
     "data": {
      "text/plain": [
       "array([1, 2, 3, 4, 5])"
      ]
     },
     "execution_count": 14,
     "metadata": {},
     "output_type": "execute_result"
    }
   ],
   "source": [
    "import numpy as np\n",
    "a = np.array([1,2,3,4,5])\n",
    "a[a > 5] = 2\n",
    "a"
   ]
  },
  {
   "cell_type": "code",
   "execution_count": 39,
   "id": "cd10c6b6-a347-4058-a44e-a77f07ef7c3c",
   "metadata": {},
   "outputs": [],
   "source": [
    "import pandas as pd\n",
    "import os \n",
    "\n",
    "# read in electrical datas into a single CSV\n",
    "data = pd.DataFrame()\n",
    "path = \"Data/Raw Data/\"\n",
    "for file in os.listdir(path):\n",
    "    data = data.append(pd.read_csv(path+file, skiprows=3), ignore_index=True)\n",
    "\n",
    "data[\"Timestamp\"] = pd.to_datetime(data['Timestamp'])\n",
    "data.sort_values(\"Timestamp\", ignore_index=True, inplace=True)\n",
    "data.to_csv(\"Data/Electrical_All.csv\", index=False)   #save datas to csv\n",
    "\n",
    "# re-format\n",
    "data.set_index('Timestamp', inplace=True)\n",
    "data = data.groupby(data.index.floor('d')).mean()    # average electrical usage by days\n",
    "data = data[data.columns[[0,6,11,1,2,5,8,9,3,4,7,10,12]]]  # re-arrange to building types\n",
    "data.to_csv(\"Data/Electrical_Averaged_Full.csv\")   # save processed data\n",
    "\n",
    "\n",
    "# remove outliers\n",
    "def remove_outliers(data, outlier_margin = 7.5):\n",
    "    Q1 = data.quantile(0.25)\n",
    "    Q3  = data.quantile(0.75)\n",
    "    IQR = Q3 - Q1\n",
    "    return data[(data > (Q1 - outlier_margin * IQR)) & (data < (Q3 + outlier_margin * IQR))]\n",
    "\n",
    "    \n",
    "#     return data[~((data > (Q1 - outlier_margin * IQR)) |(data < (Q3 + outlier_margin * IQR))).any(axis=1)]\n",
    "\n",
    "data = remove_outliers(data)\n",
    "data.to_csv(\"Data/Electrical_Averaged_NoOutlier.csv\")   # save processed data\n"
   ]
  },
  {
   "cell_type": "code",
   "execution_count": 38,
   "id": "9dfb9c0b-544a-43b1-8284-a04959734f2b",
   "metadata": {},
   "outputs": [
    {
     "data": {
      "text/plain": [
       "Adam Joseph Lewis Center - Gross Electricity Consumption (kWh)     147\n",
       "Kohl Building - Total Electricity Use (kWh)                       2616\n",
       "Science Center - Electricity Use (kWh)                            1660\n",
       "Asia House - Residential Electricity Use (kWh)                     184\n",
       "East - Electricity Use (kWh)                                       808\n",
       "Kahn - Total Electricity Use (kWh)                                 461\n",
       "Noah - Electricity Use (kWh)                                       208\n",
       "North - Electricity Use (kWh)                                      468\n",
       "Fairchild - Residential Electricity Use (kWh)                       27\n",
       "Harvey - Electricity Use (kWh)                                     333\n",
       "Lord - Electricity Use (kWh)                                       328\n",
       "Saunders - Electricity Use (kWh)                                   235\n",
       "Talcott - Residential Electricity Use (kWh)                        252\n",
       "dtype: int64"
      ]
     },
     "execution_count": 38,
     "metadata": {},
     "output_type": "execute_result"
    }
   ],
   "source": [
    "data.isna().sum()"
   ]
  },
  {
   "cell_type": "code",
   "execution_count": null,
   "id": "2eb08bba-ff92-4e97-9578-b4e187e5a2c1",
   "metadata": {},
   "outputs": [],
   "source": []
  }
 ],
 "metadata": {
  "kernelspec": {
   "display_name": "Python 3",
   "language": "python",
   "name": "python3"
  },
  "language_info": {
   "codemirror_mode": {
    "name": "ipython",
    "version": 3
   },
   "file_extension": ".py",
   "mimetype": "text/x-python",
   "name": "python",
   "nbconvert_exporter": "python",
   "pygments_lexer": "ipython3",
   "version": "3.8.8"
  }
 },
 "nbformat": 4,
 "nbformat_minor": 5
}
