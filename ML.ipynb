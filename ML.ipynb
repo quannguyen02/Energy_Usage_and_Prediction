{
 "cells": [
  {
   "cell_type": "code",
   "execution_count": 1,
   "id": "607d3a9e-2503-4187-8345-3101f66219af",
   "metadata": {},
   "outputs": [],
   "source": [
    "import tensorflow, pandas as pd, numpy as np, matplotlib as plt, os, math"
   ]
  },
  {
   "cell_type": "code",
   "execution_count": 39,
   "id": "bc3f4f33-c6f0-4d80-983e-83cbd20a6636",
   "metadata": {},
   "outputs": [],
   "source": [
    "def find(name, path):\n",
    "    for root, dirs, files in os.listdir(path):\n",
    "        if name in files:\n",
    "            return os.path.join(root, name)"
   ]
  },
  {
   "cell_type": "code",
   "execution_count": null,
   "id": "0c871c4e-918c-497d-977b-7ac2e0945a9f",
   "metadata": {},
   "outputs": [],
   "source": [
    "os.listdir(path)"
   ]
  },
  {
   "cell_type": "code",
   "execution_count": 56,
   "id": "1377343d-76f8-4204-a6bb-fd5b29563f29",
   "metadata": {},
   "outputs": [
    {
     "name": "stdout",
     "output_type": "stream",
     "text": [
      "None\n"
     ]
    }
   ],
   "source": [
    "print(find(\"Lord-Saunders\", \"./Graphs/Building\"))"
   ]
  },
  {
   "cell_type": "code",
   "execution_count": 52,
   "id": "4a6325d2-8e11-48b8-be19-0de7f74267c1",
   "metadata": {},
   "outputs": [
    {
     "data": {
      "text/plain": [
       "'./Graphs/Building/Adam Joseph Lewis Center - Gross Electricity Consumption (kWh)_Electrical.png'"
      ]
     },
     "execution_count": 52,
     "metadata": {},
     "output_type": "execute_result"
    }
   ],
   "source": [
    "path = \"./Graphs/Building/\"\n",
    "def find(name, path):\n",
    "    for file in os.listdir(path):\n",
    "        if name in file:\n",
    "            return path + file\n",
    "find(\"Adam\", path)"
   ]
  },
  {
   "cell_type": "code",
   "execution_count": 57,
   "id": "89710fc2-5988-4f20-bb80-21659cb714fa",
   "metadata": {},
   "outputs": [
    {
     "data": {
      "text/plain": [
       "['Adam Joseph Lewis Center - Gross Electricity Consumption (kWh)_Electrical.png',\n",
       " 'Asia House - Residential Electricity Use (kWh)_Electrical.png',\n",
       " 'Noah - Electricity Use (kWh)_Electrical.png',\n",
       " 'Harvey - Electricity Use (kWh)_Electrical.png',\n",
       " 'Kohl Building - Total Electricity Use (kWh)_Electrical.png',\n",
       " 'Lord-saunders Electricity use (kWh)_Electrical.png',\n",
       " 'Fairchild - Residential Electricity Use (kWh)_Electrical.png',\n",
       " 'North - Electricity Use (kWh)_Electrical.png',\n",
       " '.ipynb_checkpoints',\n",
       " 'Talcott - Residential Electricity Use (kWh)_Electrical.png',\n",
       " 'Kahn - Total Electricity Use (kWh)_Electrical.png',\n",
       " 'Science Center - Electricity Use (kWh)_Electrical.png',\n",
       " 'Noah - Electricity Use (kWh).1_Electrical.png',\n",
       " 'East - Electricity Use (kWh)_Electrical.png']"
      ]
     },
     "execution_count": 57,
     "metadata": {},
     "output_type": "execute_result"
    }
   ],
   "source": [
    "os.listdir(path)"
   ]
  },
  {
   "cell_type": "code",
   "execution_count": null,
   "id": "56ffd8f3-50b3-4c72-9898-4efc59c7b355",
   "metadata": {},
   "outputs": [],
   "source": [
    "    data = pd.DataFrame()\n",
    "    path = \"Data/Raw Data/\"\n",
    "    for file in os.listdir(path):\n",
    "      data = pd.concat((data, pd.read_csv(path+file, skiprows=3)), ignore_index = True)\n",
    "\n",
    "    data[\"Timestamp\"] = pd.to_datetime(data['Timestamp'])\n",
    "    data.sort_values(\"Timestamp\", ignore_index=True, inplace=True)\n",
    "\n",
    "    #combine lord saunder\n",
    "    data[\"Lord-Saunders Electricity use (kWh)\"] = data[\"Lord - Electricity Use (kWh)\"] + data[\"Saunders - Electricity Use (kWh)\"]\n",
    "    data.drop([\"Lord - Electricity Use (kWh)\", \"Saunders - Electricity Use (kWh)\"], axis = 1, inplace = True)\n",
    "    data.to_csv(\"Data/Electrical_All.csv\", index=False)   #save datas to csv\n",
    "\n",
    "    # re-format\n",
    "    data.set_index('Timestamp', inplace=True)\n",
    "    data = data[data.columns[[0,6,9,1,2,5,7,8,3,4,7,10,11]]]  # re-arrange to building types\n",
    "    data = data.groupby(data.index.floor('d')).mean()    # average electrical usage by days\n",
    "\n",
    "    data = remove_outliers(data, 50)   # remove huge outliers\n",
    "    data.to_csv(\"Data/Electrical_Averaged.csv\")   # save processed data"
   ]
  }
 ],
 "metadata": {
  "kernelspec": {
   "display_name": "Python 3",
   "language": "python",
   "name": "python3"
  },
  "language_info": {
   "codemirror_mode": {
    "name": "ipython",
    "version": 3
   },
   "file_extension": ".py",
   "mimetype": "text/x-python",
   "name": "python",
   "nbconvert_exporter": "python",
   "pygments_lexer": "ipython3",
   "version": "3.8.8"
  }
 },
 "nbformat": 4,
 "nbformat_minor": 5
}
