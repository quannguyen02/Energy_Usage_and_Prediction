{
 "cells": [
  {
   "cell_type": "code",
   "execution_count": 368,
   "id": "3a73a777-8316-474a-aaa5-4c6eb7c11e10",
   "metadata": {},
   "outputs": [],
   "source": [
    "import pandas as pd, numpy as np, matplotlib.pyplot as plt\n",
    "import os, time, math, datetime\n",
    "from matplotlib.dates import DateFormatter\n",
    "import matplotlib.pyplot as plt\n",
    "import matplotlib.dates as mdate"
   ]
  },
  {
   "cell_type": "code",
   "execution_count": 143,
   "id": "5758ba88-7946-4f3f-86d6-2979b9e01503",
   "metadata": {},
   "outputs": [],
   "source": [
    "data = pd.DataFrame()\n",
    "for file in os.listdir(\"Data\"):\n",
    "    data = data.append(pd.read_csv(\"./Data/\"+file, skiprows=3), ignore_index=True)\n",
    "\n",
    "data[\"Timestamp\"] = pd.to_datetime(data['Timestamp'])\n"
   ]
  },
  {
   "cell_type": "code",
   "execution_count": 144,
   "id": "29e52cb3-d8da-4a1d-bb3f-603f66ef05f2",
   "metadata": {},
   "outputs": [],
   "source": [
    "data.sort_values(\"Timestamp\",ignore_index=True, inplace=True)\n",
    "data.to_csv(\"Electrical_All.csv\")\n",
    "data.set_index('Timestamp', inplace=True)"
   ]
  },
  {
   "cell_type": "code",
   "execution_count": 154,
   "id": "2b020b04-9183-4f15-8b1e-ab9e3900672a",
   "metadata": {},
   "outputs": [],
   "source": [
    "data = data.groupby(data.index.floor('d')).mean()"
   ]
  },
  {
   "cell_type": "code",
   "execution_count": 230,
   "id": "15b244cb-665f-415c-bb44-21af42911c72",
   "metadata": {},
   "outputs": [],
   "source": [
    "ordered_data = data[data.columns[[0,6,11,1,2,5,8,9,3,4,7,10,12]]]\n",
    "ordered_data.to_csv(\"Electrical_All.csv\")"
   ]
  },
  {
   "cell_type": "code",
   "execution_count": 352,
   "id": "c2eab01c-b30f-46d5-804d-516690c1ebe7",
   "metadata": {},
   "outputs": [
    {
     "data": {
      "text/plain": [
       "[2016, 2017, 2018, 2019, 2020, 2021, 2022, 2023, 2013, 2014, 2015]"
      ]
     },
     "execution_count": 352,
     "metadata": {},
     "output_type": "execute_result"
    }
   ],
   "source": []
  },
  {
   "cell_type": "code",
   "execution_count": 232,
   "id": "1ea34162-4e79-48bf-a2ed-61996ba416c0",
   "metadata": {},
   "outputs": [
    {
     "data": {
      "text/html": [
       "<div>\n",
       "<style scoped>\n",
       "    .dataframe tbody tr th:only-of-type {\n",
       "        vertical-align: middle;\n",
       "    }\n",
       "\n",
       "    .dataframe tbody tr th {\n",
       "        vertical-align: top;\n",
       "    }\n",
       "\n",
       "    .dataframe thead th {\n",
       "        text-align: right;\n",
       "    }\n",
       "</style>\n",
       "<table border=\"1\" class=\"dataframe\">\n",
       "  <thead>\n",
       "    <tr style=\"text-align: right;\">\n",
       "      <th></th>\n",
       "      <th>Adam Joseph Lewis Center - Gross Electricity Consumption (kWh)</th>\n",
       "      <th>Kohl Building - Total Electricity Use (kWh)</th>\n",
       "      <th>Science Center - Electricity Use (kWh)</th>\n",
       "      <th>Asia House - Residential Electricity Use (kWh)</th>\n",
       "      <th>East - Electricity Use (kWh)</th>\n",
       "      <th>Kahn - Total Electricity Use (kWh)</th>\n",
       "      <th>Noah - Electricity Use (kWh)</th>\n",
       "      <th>North - Electricity Use (kWh)</th>\n",
       "      <th>Fairchild - Residential Electricity Use (kWh)</th>\n",
       "      <th>Harvey - Electricity Use (kWh)</th>\n",
       "      <th>Lord - Electricity Use (kWh)</th>\n",
       "      <th>Saunders - Electricity Use (kWh)</th>\n",
       "      <th>Talcott - Residential Electricity Use (kWh)</th>\n",
       "    </tr>\n",
       "  </thead>\n",
       "  <tbody>\n",
       "    <tr>\n",
       "      <th>count</th>\n",
       "      <td>3514.000000</td>\n",
       "      <td>1048.000000</td>\n",
       "      <td>2005.000000</td>\n",
       "      <td>3477.000000</td>\n",
       "      <td>2876.000000</td>\n",
       "      <td>3364.000000</td>\n",
       "      <td>3453.000000</td>\n",
       "      <td>3193.000000</td>\n",
       "      <td>3634.000000</td>\n",
       "      <td>3328.000000</td>\n",
       "      <td>3333.000000</td>\n",
       "      <td>3426.000000</td>\n",
       "      <td>3409.000000</td>\n",
       "    </tr>\n",
       "    <tr>\n",
       "      <th>mean</th>\n",
       "      <td>2.779564</td>\n",
       "      <td>25.778824</td>\n",
       "      <td>90.196301</td>\n",
       "      <td>1.878194</td>\n",
       "      <td>10.840342</td>\n",
       "      <td>13.282377</td>\n",
       "      <td>2.586587</td>\n",
       "      <td>7.884440</td>\n",
       "      <td>0.824460</td>\n",
       "      <td>1.262747</td>\n",
       "      <td>1.960388</td>\n",
       "      <td>1.606759</td>\n",
       "      <td>1.201982</td>\n",
       "    </tr>\n",
       "    <tr>\n",
       "      <th>std</th>\n",
       "      <td>1.591383</td>\n",
       "      <td>4.934706</td>\n",
       "      <td>21.471098</td>\n",
       "      <td>0.597322</td>\n",
       "      <td>223.799713</td>\n",
       "      <td>8.155039</td>\n",
       "      <td>0.987624</td>\n",
       "      <td>1.884959</td>\n",
       "      <td>0.506627</td>\n",
       "      <td>0.420909</td>\n",
       "      <td>0.722587</td>\n",
       "      <td>0.678169</td>\n",
       "      <td>0.388778</td>\n",
       "    </tr>\n",
       "    <tr>\n",
       "      <th>min</th>\n",
       "      <td>0.065163</td>\n",
       "      <td>9.000000</td>\n",
       "      <td>65.788750</td>\n",
       "      <td>0.068750</td>\n",
       "      <td>0.000000</td>\n",
       "      <td>0.825000</td>\n",
       "      <td>0.802708</td>\n",
       "      <td>2.366927</td>\n",
       "      <td>0.048958</td>\n",
       "      <td>0.365547</td>\n",
       "      <td>0.191875</td>\n",
       "      <td>0.097500</td>\n",
       "      <td>0.142563</td>\n",
       "    </tr>\n",
       "    <tr>\n",
       "      <th>25%</th>\n",
       "      <td>1.580540</td>\n",
       "      <td>24.697917</td>\n",
       "      <td>82.583333</td>\n",
       "      <td>1.467930</td>\n",
       "      <td>3.835781</td>\n",
       "      <td>10.025846</td>\n",
       "      <td>1.831146</td>\n",
       "      <td>6.385521</td>\n",
       "      <td>0.393418</td>\n",
       "      <td>0.938137</td>\n",
       "      <td>1.365417</td>\n",
       "      <td>1.109271</td>\n",
       "      <td>0.965273</td>\n",
       "    </tr>\n",
       "    <tr>\n",
       "      <th>50%</th>\n",
       "      <td>2.191823</td>\n",
       "      <td>25.820312</td>\n",
       "      <td>86.750000</td>\n",
       "      <td>2.007161</td>\n",
       "      <td>5.413854</td>\n",
       "      <td>11.567578</td>\n",
       "      <td>2.333021</td>\n",
       "      <td>8.111146</td>\n",
       "      <td>0.712051</td>\n",
       "      <td>1.245681</td>\n",
       "      <td>2.021302</td>\n",
       "      <td>1.525207</td>\n",
       "      <td>1.211667</td>\n",
       "    </tr>\n",
       "    <tr>\n",
       "      <th>75%</th>\n",
       "      <td>3.801634</td>\n",
       "      <td>26.902344</td>\n",
       "      <td>93.177083</td>\n",
       "      <td>2.351797</td>\n",
       "      <td>7.113645</td>\n",
       "      <td>12.984831</td>\n",
       "      <td>3.150521</td>\n",
       "      <td>9.296875</td>\n",
       "      <td>1.188411</td>\n",
       "      <td>1.497321</td>\n",
       "      <td>2.440026</td>\n",
       "      <td>1.958916</td>\n",
       "      <td>1.447852</td>\n",
       "    </tr>\n",
       "    <tr>\n",
       "      <th>max</th>\n",
       "      <td>10.487393</td>\n",
       "      <td>161.733328</td>\n",
       "      <td>825.634052</td>\n",
       "      <td>8.596565</td>\n",
       "      <td>11893.462420</td>\n",
       "      <td>60.146137</td>\n",
       "      <td>12.352821</td>\n",
       "      <td>31.009875</td>\n",
       "      <td>5.724102</td>\n",
       "      <td>4.169715</td>\n",
       "      <td>9.383462</td>\n",
       "      <td>6.766279</td>\n",
       "      <td>4.388559</td>\n",
       "    </tr>\n",
       "  </tbody>\n",
       "</table>\n",
       "</div>"
      ],
      "text/plain": [
       "       Adam Joseph Lewis Center - Gross Electricity Consumption (kWh)  \\\n",
       "count                                        3514.000000                \n",
       "mean                                            2.779564                \n",
       "std                                             1.591383                \n",
       "min                                             0.065163                \n",
       "25%                                             1.580540                \n",
       "50%                                             2.191823                \n",
       "75%                                             3.801634                \n",
       "max                                            10.487393                \n",
       "\n",
       "       Kohl Building - Total Electricity Use (kWh)  \\\n",
       "count                                  1048.000000   \n",
       "mean                                     25.778824   \n",
       "std                                       4.934706   \n",
       "min                                       9.000000   \n",
       "25%                                      24.697917   \n",
       "50%                                      25.820312   \n",
       "75%                                      26.902344   \n",
       "max                                     161.733328   \n",
       "\n",
       "       Science Center - Electricity Use (kWh)  \\\n",
       "count                             2005.000000   \n",
       "mean                                90.196301   \n",
       "std                                 21.471098   \n",
       "min                                 65.788750   \n",
       "25%                                 82.583333   \n",
       "50%                                 86.750000   \n",
       "75%                                 93.177083   \n",
       "max                                825.634052   \n",
       "\n",
       "       Asia House - Residential Electricity Use (kWh)  \\\n",
       "count                                     3477.000000   \n",
       "mean                                         1.878194   \n",
       "std                                          0.597322   \n",
       "min                                          0.068750   \n",
       "25%                                          1.467930   \n",
       "50%                                          2.007161   \n",
       "75%                                          2.351797   \n",
       "max                                          8.596565   \n",
       "\n",
       "       East - Electricity Use (kWh)  Kahn - Total Electricity Use (kWh)  \\\n",
       "count                   2876.000000                         3364.000000   \n",
       "mean                      10.840342                           13.282377   \n",
       "std                      223.799713                            8.155039   \n",
       "min                        0.000000                            0.825000   \n",
       "25%                        3.835781                           10.025846   \n",
       "50%                        5.413854                           11.567578   \n",
       "75%                        7.113645                           12.984831   \n",
       "max                    11893.462420                           60.146137   \n",
       "\n",
       "       Noah - Electricity Use (kWh)  North - Electricity Use (kWh)  \\\n",
       "count                   3453.000000                    3193.000000   \n",
       "mean                       2.586587                       7.884440   \n",
       "std                        0.987624                       1.884959   \n",
       "min                        0.802708                       2.366927   \n",
       "25%                        1.831146                       6.385521   \n",
       "50%                        2.333021                       8.111146   \n",
       "75%                        3.150521                       9.296875   \n",
       "max                       12.352821                      31.009875   \n",
       "\n",
       "       Fairchild - Residential Electricity Use (kWh)  \\\n",
       "count                                    3634.000000   \n",
       "mean                                        0.824460   \n",
       "std                                         0.506627   \n",
       "min                                         0.048958   \n",
       "25%                                         0.393418   \n",
       "50%                                         0.712051   \n",
       "75%                                         1.188411   \n",
       "max                                         5.724102   \n",
       "\n",
       "       Harvey - Electricity Use (kWh)  Lord - Electricity Use (kWh)  \\\n",
       "count                     3328.000000                   3333.000000   \n",
       "mean                         1.262747                      1.960388   \n",
       "std                          0.420909                      0.722587   \n",
       "min                          0.365547                      0.191875   \n",
       "25%                          0.938137                      1.365417   \n",
       "50%                          1.245681                      2.021302   \n",
       "75%                          1.497321                      2.440026   \n",
       "max                          4.169715                      9.383462   \n",
       "\n",
       "       Saunders - Electricity Use (kWh)  \\\n",
       "count                       3426.000000   \n",
       "mean                           1.606759   \n",
       "std                            0.678169   \n",
       "min                            0.097500   \n",
       "25%                            1.109271   \n",
       "50%                            1.525207   \n",
       "75%                            1.958916   \n",
       "max                            6.766279   \n",
       "\n",
       "       Talcott - Residential Electricity Use (kWh)  \n",
       "count                                  3409.000000  \n",
       "mean                                      1.201982  \n",
       "std                                       0.388778  \n",
       "min                                       0.142563  \n",
       "25%                                       0.965273  \n",
       "50%                                       1.211667  \n",
       "75%                                       1.447852  \n",
       "max                                       4.388559  "
      ]
     },
     "execution_count": 232,
     "metadata": {},
     "output_type": "execute_result"
    }
   ],
   "source": [
    "ordered_data.describe()"
   ]
  },
  {
   "cell_type": "code",
   "execution_count": 239,
   "id": "9a9f25ca-12fa-4a27-9699-d19e41e6f7a1",
   "metadata": {},
   "outputs": [
    {
     "data": {
      "text/plain": [
       "Adam Joseph Lewis Center - Gross Electricity Consumption (kWh)      0\n",
       "Kohl Building - Total Electricity Use (kWh)                       245\n",
       "Science Center - Electricity Use (kWh)                            365\n",
       "Asia House - Residential Electricity Use (kWh)                     12\n",
       "East - Electricity Use (kWh)                                       90\n",
       "Kahn - Total Electricity Use (kWh)                                  0\n",
       "Noah - Electricity Use (kWh)                                       59\n",
       "North - Electricity Use (kWh)                                      58\n",
       "Fairchild - Residential Electricity Use (kWh)                       0\n",
       "Harvey - Electricity Use (kWh)                                    120\n",
       "Lord - Electricity Use (kWh)                                       60\n",
       "Saunders - Electricity Use (kWh)                                    0\n",
       "Talcott - Residential Electricity Use (kWh)                        18\n",
       "dtype: int64"
      ]
     },
     "execution_count": 239,
     "metadata": {},
     "output_type": "execute_result"
    }
   ],
   "source": [
    "year_data.isna().sum()"
   ]
  },
  {
   "cell_type": "code",
   "execution_count": 294,
   "id": "0c660863-e99b-4097-9298-508c669fc860",
   "metadata": {},
   "outputs": [
    {
     "data": {
      "text/plain": [
       "'./Graphs/Year/2018_Electrical.csv'"
      ]
     },
     "execution_count": 294,
     "metadata": {},
     "output_type": "execute_result"
    }
   ],
   "source": [
    "f\"./Graphs/Year/{year}_Electrical.csv\""
   ]
  },
  {
   "cell_type": "code",
   "execution_count": 391,
   "id": "ba8ed88c-9625-487d-909a-bfcc0fd14979",
   "metadata": {},
   "outputs": [],
   "source": [
    "# get the building type and color code\n",
    "def setCategories(col_num):\n",
    "        if col_num < 3:\n",
    "            return \"Academic Building\", \"lightcoral\"\n",
    "        if col_num < 8:\n",
    "            return \"North Residential Hall\", \"mediumpurple\"\n",
    "        else:\n",
    "            return \"South Residential Hall\", \"cornflowerblue\"\n",
    "\n",
    "# Plot by year\n",
    "def plot_by_year(year, data, fontsize = 15, margin = 10, labelrotation=10):\n",
    "    year_data = data[data.index.year == year]\n",
    "\n",
    "    col_num=0\n",
    "    fig, ax = plt.subplots(nrows=3, ncols=4, figsize=(30, 20))\n",
    "    fig.suptitle(str(year) +\" Electricity Usage\", fontsize = fontsize + 10)\n",
    "\n",
    "    \n",
    "    \n",
    "    categories = {}\n",
    "    \n",
    "    for row in ax:\n",
    "        for col in row:\n",
    "            set_label, set_color = setCategories(col_num)\n",
    "            label = col.bar(year_data.index, year_data[year_data.columns[col_num]], label = set_label, color=set_color) \n",
    "\n",
    "            if set_label not in categories:\n",
    "                categories[set_label] = label\n",
    "            \n",
    "            col.set_xlabel(\"Month\", fontsize=fontsize)\n",
    "            col.set_ylabel(\"kWh\", fontsize=fontsize)\n",
    "            col.set_xlim([datetime.date(year-1, 12, 31-margin), datetime.date(year+1, 1, margin)]) #CHANGE\n",
    "            col.set_title(year_data.columns[col_num], fontsize=fontsize, color=setColor(col_num))\n",
    "            col.xaxis.set_major_formatter(DateFormatter(\"%Y-%m\"))\n",
    "            col.tick_params(axis='x', labelsize=fontsize, labelrotation = labelrotation)\n",
    "            col.tick_params(axis='y', labelsize=fontsize)\n",
    "            col_num+=1\n",
    "            \n",
    "    plt.tight_layout(pad=6.5, w_pad=0.5, h_pad=2)\n",
    "    \n",
    "    plt.legend(handles=categories.values(), bbox_to_anchor=[-1.1, 3.9], fontsize=fontsize)\n",
    "    plt.savefig(f\"./Graphs/Year/{year}_Electrical.png\")\n",
    "\n",
    "    # Plot from 2013 to 2023\n",
    "# for year in range(2013, 2023):\n",
    "#     plot_by_year(year, ordered_data)"
   ]
  },
  {
   "cell_type": "code",
   "execution_count": null,
   "id": "e05531a4-787b-497c-8415-bb5349c801c8",
   "metadata": {},
   "outputs": [],
   "source": []
  },
  {
   "cell_type": "code",
   "execution_count": 394,
   "id": "4f098a52-4659-4df1-bcb0-277753f2fee9",
   "metadata": {},
   "outputs": [],
   "source": [
    "# Plot by dorm\n",
    "def plot_by_dorm(data, col_num, fontsize = 15, margin = 10):\n",
    "    set_label, set_color = setCategories(col_num)\n",
    "    locator = mdate.YearLocator()\n",
    "    \n",
    "    plt.figure(figsize=(15, 10))\n",
    "    plt.bar(data.index, data, label = set_label, color = set_color)\n",
    "    plt.xlabel(\"Year\", fontsize=fontsize)\n",
    "    plt.ylabel(\"kWh\", fontsize=fontsize)\n",
    "    plt.title(data.name, fontsize=fontsize, color = set_color)\n",
    "    plt.tick_params(axis='x', labelsize=fontsize)\n",
    "    plt.tick_params(axis='y', labelsize=fontsize)\n",
    "\n",
    "    plt.gca().xaxis.set_major_locator(locator)\n",
    "    plt.gca().xaxis.set_major_formatter(DateFormatter('%Y'))\n",
    "\n",
    "    plt.gcf().autofmt_xdate()            \n",
    "    # plt.tight_layout()\n",
    "    plt.legend()\n",
    "\n",
    "    plt.savefig(f\"./Graphs/Building/{data.name}_Electrical.png\")"
   ]
  },
  {
   "cell_type": "code",
   "execution_count": 397,
   "id": "6c0ccda6-f162-4acf-92f1-9b080461c93a",
   "metadata": {},
   "outputs": [
    {
     "data": {
      "image/png": "[encoded data removed]",
      "text/plain": [
       "<Figure size 1080x720 with 1 Axes>"
      ]
     },
     "metadata": {
      "needs_background": "light"
     },
     "output_type": "display_data"
    }
   ],
   "source": [
    "plot_by_dorm(ordered_data[ordered_data.columns[0]], 0)"
   ]
  },
  {
   "cell_type": "code",
   "execution_count": 354,
   "id": "e05a27f4-5a90-4dce-b1a2-30689cba3345",
   "metadata": {},
   "outputs": [
    {
     "data": {
      "text/plain": [
       "Timestamp\n",
       "2013-01-01    4.192083\n",
       "2013-01-02    5.782357\n",
       "2013-01-03    5.467969\n",
       "2013-01-04    4.394909\n",
       "2013-01-05    4.390560\n",
       "                ...   \n",
       "2023-01-05    3.637969\n",
       "2023-01-06    5.004740\n",
       "2023-01-07    5.115781\n",
       "2023-01-08    4.921263\n",
       "2023-01-09    5.054430\n",
       "Name: Adam Joseph Lewis Center - Gross Electricity Consumption (kWh), Length: 3661, dtype: float64"
      ]
     },
     "execution_count": 354,
     "metadata": {},
     "output_type": "execute_result"
    }
   ],
   "source": [
    "ordered_data[ordered_data.columns[0]]"
   ]
  },
  {
   "cell_type": "code",
   "execution_count": 180,
   "id": "73530de0-308a-4b1b-bb4a-cc3337d135aa",
   "metadata": {},
   "outputs": [],
   "source": [
    "\n",
    "                 \n"
   ]
  },
  {
   "cell_type": "code",
   "execution_count": null,
   "id": "fc77743f-e23c-4d44-95f7-33fbdef7de30",
   "metadata": {},
   "outputs": [],
   "source": []
  },
  {
   "cell_type": "code",
   "execution_count": null,
   "id": "f2bb36a5-3baa-4fdd-be21-487c55750277",
   "metadata": {},
   "outputs": [],
   "source": []
  },
  {
   "cell_type": "code",
   "execution_count": null,
   "id": "fa88c638-03c6-4879-add2-01abd77a4859",
   "metadata": {},
   "outputs": [],
   "source": [
    "# def plot(data, ax, fontsize=12):\n",
    "#     ax.bar(data.index, data) \n",
    "# #     ax.locator_params(nbins=3)\n",
    "#     ax.set_xlabel('Date', fontsize=fontsize)\n",
    "#     ax.set_ylabel('kWh', fontsize=fontsize)\n",
    "#     ax.set_title('Title', fontsize=fontsize)\n",
    "    \n",
    "# fig = plt.figure(figsize=(20, 10))\n",
    "\n",
    "# ax1 = plt.subplot(221, sharex='col', sharey='row')\n",
    "# ax2 = plt.subplot(223, sharex='col', sharey='row')\n",
    "# ax3 = plt.subplot(122, sharex='col', sharey='row')\n",
    "\n",
    "\n",
    "# plot(year_data[year_data.columns[1]], ax1)\n",
    "# plot(year_data[year_data.columns[2]], ax2)\n",
    "# plot(year_data[year_data.columns[3]],ax3)"
   ]
  }
 ],
 "metadata": {
  "kernelspec": {
   "display_name": "Python 3",
   "language": "python",
   "name": "python3"
  },
  "language_info": {
   "codemirror_mode": {
    "name": "ipython",
    "version": 3
   },
   "file_extension": ".py",
   "mimetype": "text/x-python",
   "name": "python",
   "nbconvert_exporter": "python",
   "pygments_lexer": "ipython3",
   "version": "3.8.8"
  }
 },
 "nbformat": 4,
 "nbformat_minor": 5
}
